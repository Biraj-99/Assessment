{
 "cells": [
  {
   "cell_type": "code",
   "execution_count": 12,
   "id": "f44abc39",
   "metadata": {},
   "outputs": [
    {
     "name": "stdout",
     "output_type": "stream",
     "text": [
      "Enter a number8\n",
      "The table of : 8 :-\n",
      "8 X 1 = 8\n",
      "8 X 2 = 16\n",
      "8 X 3 = 24\n",
      "8 X 4 = 32\n",
      "8 X 5 = 40\n",
      "8 X 6 = 48\n",
      "8 X 7 = 56\n",
      "8 X 8 = 64\n",
      "8 X 9 = 72\n",
      "8 X 10 = 80\n"
     ]
    }
   ],
   "source": [
    "a=int(input(\"Enter a number\"))\n",
    "print('The table of :', a,':-')\n",
    "for i in range(1,11):\n",
    "      print(a,'X',i,'=',a*i)"
   ]
  },
  {
   "cell_type": "code",
   "execution_count": 19,
   "id": "13157415",
   "metadata": {},
   "outputs": [
    {
     "name": "stdout",
     "output_type": "stream",
     "text": [
      "Enter a number3\n",
      "Sum of the numbers from 1 to  3\n",
      "6\n"
     ]
    }
   ],
   "source": [
    "a=int(input(\"Enter a number\"))\n",
    "print('Sum of the numbers from 1 to ',a)\n",
    "sum=0\n",
    "for i in range(1,a+1):\n",
    "    sum=sum+i  \n",
    "print(sum)"
   ]
  },
  {
   "cell_type": "code",
   "execution_count": 20,
   "id": "e31c8d57",
   "metadata": {},
   "outputs": [
    {
     "name": "stdout",
     "output_type": "stream",
     "text": [
      "Enter a number3\n",
      "Sum of the numbers from 1 to  3\n",
      "6\n"
     ]
    }
   ],
   "source": [
    "a=int(input(\"Enter a number\"))\n",
    "print('Sum of the numbers from 1 to ',a)\n",
    "sum=(a*(a+1))/2\n",
    "print(int(sum))  "
   ]
  },
  {
   "cell_type": "code",
   "execution_count": 38,
   "id": "75b74f87",
   "metadata": {},
   "outputs": [
    {
     "name": "stdout",
     "output_type": "stream",
     "text": [
      "Enter a number 3\n",
      "6\n"
     ]
    }
   ],
   "source": [
    "a=int(input(\"Enter a number \"))\n",
    "factor=1\n",
    "if a<0:\n",
    "    print(\"Plz enter a valid number to get the factorial value\")\n",
    "elif a==0 :\n",
    "    print(\"Factorial value of 0 is 1\")\n",
    "else:    \n",
    "    for i in range(1,a+1):\n",
    "        factor=factor*i\n",
    "    print(int(factor))    "
   ]
  },
  {
   "cell_type": "code",
   "execution_count": 45,
   "id": "411e3a85",
   "metadata": {},
   "outputs": [
    {
     "name": "stdout",
     "output_type": "stream",
     "text": [
      "Enter the month february\n",
      "Enter the total sale of the month 325648\n",
      "10854.933333333332\n"
     ]
    }
   ],
   "source": [
    "mnth=input(\"Enter the month \")\n",
    "sale=int(input(\"Enter the total sale of the month \"))\n",
    "if mnth==\"January\" or mnth==\"March\" or mnth==\"May\" or mnth==\"July\" or mnth==\"August\" or mnth==\"October\" or mnth==\"December\" or  mnth==\"january\" or mnth==\"march\" or mnth==\"may\" or mnth==\"july\" or mnth==\"august\" or mnth==\"october\" or mnth==\"december\" :\n",
    "    avgsl=sale/31\n",
    "    print(avgsl)\n",
    "elif mnth==\"February\":\n",
    "    avgsl=sale/28\n",
    "    print(avgsl)\n",
    "else:\n",
    "    avgsl=sale/30\n",
    "    print(avgsl)"
   ]
  },
  {
   "cell_type": "code",
   "execution_count": 47,
   "id": "b0d915dd",
   "metadata": {},
   "outputs": [
    {
     "data": {
      "text/plain": [
       "'C:\\\\Users\\\\Birachi'"
      ]
     },
     "execution_count": 47,
     "metadata": {},
     "output_type": "execute_result"
    }
   ],
   "source": [
    "import os\n",
    "os.getcwd()\n",
    "\n"
   ]
  },
  {
   "cell_type": "code",
   "execution_count": null,
   "id": "04c3f46f",
   "metadata": {},
   "outputs": [],
   "source": []
  }
 ],
 "metadata": {
  "kernelspec": {
   "display_name": "Python 3 (ipykernel)",
   "language": "python",
   "name": "python3"
  },
  "language_info": {
   "codemirror_mode": {
    "name": "ipython",
    "version": 3
   },
   "file_extension": ".py",
   "mimetype": "text/x-python",
   "name": "python",
   "nbconvert_exporter": "python",
   "pygments_lexer": "ipython3",
   "version": "3.9.7"
  }
 },
 "nbformat": 4,
 "nbformat_minor": 5
}
